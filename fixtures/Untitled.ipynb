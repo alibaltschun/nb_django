{
 "cells": [
  {
   "cell_type": "code",
   "execution_count": 1,
   "metadata": {},
   "outputs": [],
   "source": [
    "import pandas as pd\n",
    "from dateutil.parser import parse\n",
    "import numpy as np\n",
    "import matplotlib.pyplot as plt\n",
    "import re\n",
    "from sklearn.metrics import accuracy_score\n",
    "from sklearn.naive_bayes import GaussianNB\n",
    "from sklearn.feature_extraction.text import CountVectorizer\n",
    "from Sastrawi.Stemmer.StemmerFactory import StemmerFactory\n",
    "from sklearn.metrics import confusion_matrix\n",
    "from Sastrawi.StopWordRemover.StopWordRemoverFactory import StopWordRemoverFactory , ArrayDictionary , StopWordRemover"
   ]
  },
  {
   "cell_type": "markdown",
   "metadata": {},
   "source": [
    "## Feature engineering client request"
   ]
  },
  {
   "cell_type": "code",
   "execution_count": 2,
   "metadata": {},
   "outputs": [],
   "source": [
    "def date_detection(doc,fuzzy=True):\n",
    "    try: \n",
    "        parse(doc, fuzzy=fuzzy)\n",
    "        return True\n",
    "\n",
    "    except ValueError:\n",
    "        return False\n",
    "    except :\n",
    "        return False\n",
    "    \n",
    "def all_caps_detection(doc):\n",
    "    return (len([word for word in doc if word.isupper()]) > 0)\n",
    "\n",
    "def contain_digits_detection(doc):\n",
    "    return any(c.isdigit() for c in doc)\n",
    "\n",
    "def karacter_detection(doc,char=':'):\n",
    "    return char in doc\n",
    "    \n",
    "def place_detection(doc,char='di'):\n",
    "    return char in doc\n",
    "    \n",
    "def more_than_n_term_detection(doc,n=18):\n",
    "    return (len(doc) > n)\n",
    "\n",
    "def text_to_vector(doc):\n",
    "    return np.array([\n",
    "            date_detection(doc),\n",
    "            all_caps_detection(doc),\n",
    "            contain_digits_detection(doc),\n",
    "            karacter_detection(doc),\n",
    "            place_detection(doc),\n",
    "            more_than_n_term_detection(doc)])+ 0"
   ]
  },
  {
   "cell_type": "code",
   "execution_count": 3,
   "metadata": {},
   "outputs": [],
   "source": [
    "train = pd.read_csv(\"./../static/datatrain.csv\")\n",
    "test = pd.read_csv(\"./../static/datatest.csv\")"
   ]
  },
  {
   "cell_type": "markdown",
   "metadata": {},
   "source": [
    "# Check kelas"
   ]
  },
  {
   "cell_type": "code",
   "execution_count": 4,
   "metadata": {},
   "outputs": [
    {
     "data": {
      "text/plain": [
       "array(['other', 'nama', 'pendidikan', 'nama ', 'ttl'], dtype=object)"
      ]
     },
     "execution_count": 4,
     "metadata": {},
     "output_type": "execute_result"
    }
   ],
   "source": [
    "train['label'].unique()"
   ]
  },
  {
   "cell_type": "code",
   "execution_count": 5,
   "metadata": {},
   "outputs": [
    {
     "data": {
      "text/plain": [
       "array(['nama', 'other', 'pendidikan', 'nama ', 'ttl'], dtype=object)"
      ]
     },
     "execution_count": 5,
     "metadata": {},
     "output_type": "execute_result"
    }
   ],
   "source": [
    "test['label'].unique()"
   ]
  },
  {
   "cell_type": "markdown",
   "metadata": {},
   "source": [
    "# Fixing typo in kelas `nama+space` to `nama`"
   ]
  },
  {
   "cell_type": "code",
   "execution_count": 6,
   "metadata": {},
   "outputs": [],
   "source": [
    "train.label = train.label.replace('nama ','nama')\n",
    "test.label = test.label.replace('nama ','nama')"
   ]
  },
  {
   "cell_type": "markdown",
   "metadata": {},
   "source": [
    "# Check kelas"
   ]
  },
  {
   "cell_type": "code",
   "execution_count": 7,
   "metadata": {},
   "outputs": [
    {
     "data": {
      "text/plain": [
       "array(['other', 'nama', 'pendidikan', 'ttl'], dtype=object)"
      ]
     },
     "execution_count": 7,
     "metadata": {},
     "output_type": "execute_result"
    }
   ],
   "source": [
    "train['label'].unique()"
   ]
  },
  {
   "cell_type": "code",
   "execution_count": 8,
   "metadata": {},
   "outputs": [
    {
     "data": {
      "text/plain": [
       "array(['nama', 'other', 'pendidikan', 'ttl'], dtype=object)"
      ]
     },
     "execution_count": 8,
     "metadata": {},
     "output_type": "execute_result"
    }
   ],
   "source": [
    "test['label'].unique()"
   ]
  },
  {
   "cell_type": "code",
   "execution_count": 9,
   "metadata": {},
   "outputs": [],
   "source": [
    "def load_data():\n",
    "    train = pd.read_csv(\"./../static/datatrain.csv\")\n",
    "    test = pd.read_csv(\"./../static/datatest.csv\")\n",
    "    \n",
    "    train.label = train.label.replace('nama ','nama')\n",
    "    test.label = test.label.replace('nama ','nama')\n",
    "    \n",
    "    return train,test"
   ]
  },
  {
   "cell_type": "markdown",
   "metadata": {},
   "source": [
    "# plot distribution of kelas"
   ]
  },
  {
   "cell_type": "code",
   "execution_count": 10,
   "metadata": {
    "scrolled": true
   },
   "outputs": [
    {
     "data": {
      "text/plain": [
       "<matplotlib.axes._subplots.AxesSubplot at 0x7f366ed27950>"
      ]
     },
     "execution_count": 10,
     "metadata": {},
     "output_type": "execute_result"
    },
    {
     "data": {
      "image/png": "[encoded data removed]",
      "text/plain": [
       "<Figure size 432x288 with 1 Axes>"
      ]
     },
     "metadata": {
      "needs_background": "light"
     },
     "output_type": "display_data"
    }
   ],
   "source": [
    "train['label'].value_counts().plot(kind='bar')"
   ]
  },
  {
   "cell_type": "code",
   "execution_count": 11,
   "metadata": {},
   "outputs": [
    {
     "data": {
      "text/plain": [
       "<matplotlib.axes._subplots.AxesSubplot at 0x7f366efa3f10>"
      ]
     },
     "execution_count": 11,
     "metadata": {},
     "output_type": "execute_result"
    },
    {
     "data": {
      "image/png": "[encoded data removed]",
      "text/plain": [
       "<Figure size 432x288 with 1 Axes>"
      ]
     },
     "metadata": {
      "needs_background": "light"
     },
     "output_type": "display_data"
    }
   ],
   "source": [
    "test['label'].value_counts().plot(kind='bar')"
   ]
  },
  {
   "cell_type": "markdown",
   "metadata": {},
   "source": [
    "# Feature Engineering Sampling"
   ]
  },
  {
   "cell_type": "markdown",
   "metadata": {},
   "source": [
    "### Downsampling train"
   ]
  },
  {
   "cell_type": "code",
   "execution_count": 12,
   "metadata": {},
   "outputs": [],
   "source": [
    "def downsampling(train):\n",
    "\n",
    "    ttl_indices = train[train.label == 'ttl'].index\n",
    "    random_indices = np.random.choice(ttl_indices, len(ttl_indices), replace=False)\n",
    "    ttl_sample = train.loc[random_indices]\n",
    "\n",
    "\n",
    "    other_indices = train[train.label == 'other'].index\n",
    "    random_indices = np.random.choice(other_indices, len(ttl_indices), replace=False)\n",
    "    other_sample = train.loc[random_indices]\n",
    "\n",
    "\n",
    "    nama_indices = train[train.label == 'nama'].index\n",
    "    random_indices = np.random.choice(nama_indices, len(ttl_indices), replace=False)\n",
    "    nama_sample = train.loc[random_indices]\n",
    "\n",
    "\n",
    "    pendidikan_indices = train[train.label == 'pendidikan'].index\n",
    "    random_indices = np.random.choice(pendidikan_indices, len(ttl_indices), replace=False)\n",
    "    pendidikan_sample = train.loc[random_indices]\n",
    "\n",
    "    train_downsampling = pd.concat([ttl_sample,other_sample,nama_sample,pendidikan_sample])\n",
    "    \n",
    "    return train_downsampling"
   ]
  },
  {
   "cell_type": "markdown",
   "metadata": {},
   "source": [
    "### Oversampling Train"
   ]
  },
  {
   "cell_type": "code",
   "execution_count": 13,
   "metadata": {},
   "outputs": [],
   "source": [
    "def oversampling(train):\n",
    "    max_size = train['label'].value_counts().max()\n",
    "\n",
    "    lst = [train]\n",
    "    for class_index, group in train.groupby('label'):\n",
    "        lst.append(group.sample(max_size-len(group), replace=True))\n",
    "    train_oversampling = pd.concat(lst)\n",
    "    \n",
    "    return train_oversampling"
   ]
  },
  {
   "cell_type": "markdown",
   "metadata": {},
   "source": [
    "## test model"
   ]
  },
  {
   "cell_type": "code",
   "execution_count": 14,
   "metadata": {},
   "outputs": [],
   "source": [
    "def test_model(X_train, y_train, X_test, y_test):\n",
    "    clf = GaussianNB() \n",
    "    clf.fit(X_train,y_train)\n",
    "    y_pred = clf.predict(X_test)\n",
    "    return (accuracy_score(y_test, y_pred))"
   ]
  },
  {
   "cell_type": "markdown",
   "metadata": {},
   "source": [
    "### Plot"
   ]
  },
  {
   "cell_type": "code",
   "execution_count": 15,
   "metadata": {},
   "outputs": [],
   "source": [
    "train, test = load_data()\n",
    "train_oversampling = oversampling(train)\n",
    "train_downsampling = downsampling(train)"
   ]
  },
  {
   "cell_type": "code",
   "execution_count": 16,
   "metadata": {},
   "outputs": [
    {
     "data": {
      "text/plain": [
       "<matplotlib.axes._subplots.AxesSubplot at 0x7f366eba42d0>"
      ]
     },
     "execution_count": 16,
     "metadata": {},
     "output_type": "execute_result"
    },
    {
     "data": {
      "image/png": "[encoded data removed]",
      "text/plain": [
       "<Figure size 432x288 with 1 Axes>"
      ]
     },
     "metadata": {
      "needs_background": "light"
     },
     "output_type": "display_data"
    }
   ],
   "source": [
    "train['label'].value_counts().plot(kind='bar')"
   ]
  },
  {
   "cell_type": "code",
   "execution_count": 17,
   "metadata": {
    "scrolled": true
   },
   "outputs": [
    {
     "data": {
      "text/plain": [
       "<matplotlib.axes._subplots.AxesSubplot at 0x7f366eabf910>"
      ]
     },
     "execution_count": 17,
     "metadata": {},
     "output_type": "execute_result"
    },
    {
     "data": {
      "image/png": "[encoded data removed]",
      "text/plain": [
       "<Figure size 432x288 with 1 Axes>"
      ]
     },
     "metadata": {
      "needs_background": "light"
     },
     "output_type": "display_data"
    }
   ],
   "source": [
    "train_oversampling['label'].value_counts().plot(kind='bar')"
   ]
  },
  {
   "cell_type": "code",
   "execution_count": 18,
   "metadata": {},
   "outputs": [
    {
     "data": {
      "text/plain": [
       "<matplotlib.axes._subplots.AxesSubplot at 0x7f366fdf8410>"
      ]
     },
     "execution_count": 18,
     "metadata": {},
     "output_type": "execute_result"
    },
    {
     "data": {
      "image/png": "[encoded data removed]",
      "text/plain": [
       "<Figure size 432x288 with 1 Axes>"
      ]
     },
     "metadata": {
      "needs_background": "light"
     },
     "output_type": "display_data"
    }
   ],
   "source": [
    "train_downsampling['label'].value_counts().plot(kind='bar')"
   ]
  },
  {
   "cell_type": "code",
   "execution_count": 19,
   "metadata": {},
   "outputs": [],
   "source": [
    "def testing_fe_1():\n",
    "    train, test = load_data()\n",
    "    X_test , y_test = [text_to_vector(i) for i in test[\"text\"]], test['label']\n",
    "    \n",
    "    train_nonsampling = train\n",
    "    train_oversampling = oversampling(train)\n",
    "    train_downsampling = downsampling(train)\n",
    "\n",
    "    X_train_over = [text_to_vector(i) for i in train_oversampling[\"text\"]]\n",
    "    y_train_over = train_oversampling[\"label\"].astype(str)\n",
    "    X_train_under = [text_to_vector(i) for i in train_downsampling[\"text\"]]\n",
    "    y_train_under = train_downsampling[\"label\"].astype(str)\n",
    "    X_train_non = [text_to_vector(i) for i in train_nonsampling[\"text\"]]\n",
    "    y_train_non = train_nonsampling[\"label\"].astype(str)\n",
    "\n",
    "    acc_non = test_model(X_train_non,y_train_non,X_test,y_test)\n",
    "    acc_over = test_model(X_train_over,y_train_over,X_test,y_test)\n",
    "    acc_under = test_model(X_train_under,y_train_under,X_test,y_test)\n",
    "\n",
    "    print(\"ACCURACY\")\n",
    "    print(\"non sampling   : \",acc_non)\n",
    "    print(\"over sampling  : \",acc_over)\n",
    "    print(\"under sampling : \",acc_under)\n",
    "    \n",
    "    return acc_non, acc_over, acc_under\n"
   ]
  },
  {
   "cell_type": "code",
   "execution_count": 20,
   "metadata": {},
   "outputs": [
    {
     "name": "stdout",
     "output_type": "stream",
     "text": [
      "### 1 epoch ###\n"
     ]
    },
    {
     "name": "stderr",
     "output_type": "stream",
     "text": [
      "/home/baltschun/anaconda3/lib/python3.7/site-packages/dateutil/parser/_parser.py:1218: UnknownTimezoneWarning: tzname C identified but not understood.  Pass `tzinfos` argument in order to correctly return a timezone-aware datetime.  In a future version, this will raise an exception.\n",
      "  category=UnknownTimezoneWarning)\n"
     ]
    },
    {
     "name": "stdout",
     "output_type": "stream",
     "text": [
      "ACCURACY\n",
      "non sampling   :  0.0871559633027523\n",
      "over sampling  :  0.0871559633027523\n",
      "under sampling :  0.0871559633027523\n"
     ]
    },
    {
     "data": {
      "text/plain": [
       "(0.0871559633027523, 0.0871559633027523, 0.0871559633027523)"
      ]
     },
     "execution_count": 20,
     "metadata": {},
     "output_type": "execute_result"
    }
   ],
   "source": [
    "print(\"### 1 epoch ###\")\n",
    "testing_fe_1()"
   ]
  },
  {
   "cell_type": "code",
   "execution_count": 23,
   "metadata": {
    "scrolled": true
   },
   "outputs": [
    {
     "name": "stderr",
     "output_type": "stream",
     "text": [
      "/home/baltschun/anaconda3/lib/python3.7/site-packages/dateutil/parser/_parser.py:1218: UnknownTimezoneWarning: tzname C identified but not understood.  Pass `tzinfos` argument in order to correctly return a timezone-aware datetime.  In a future version, this will raise an exception.\n",
      "  category=UnknownTimezoneWarning)\n"
     ]
    },
    {
     "name": "stdout",
     "output_type": "stream",
     "text": [
      "ACCURACY\n",
      "non sampling   :  0.22018348623853212\n",
      "over sampling  :  0.20642201834862386\n",
      "under sampling :  0.11467889908256881\n"
     ]
    },
    {
     "name": "stderr",
     "output_type": "stream",
     "text": [
      "/home/baltschun/anaconda3/lib/python3.7/site-packages/dateutil/parser/_parser.py:1218: UnknownTimezoneWarning: tzname C identified but not understood.  Pass `tzinfos` argument in order to correctly return a timezone-aware datetime.  In a future version, this will raise an exception.\n",
      "  category=UnknownTimezoneWarning)\n"
     ]
    },
    {
     "name": "stdout",
     "output_type": "stream",
     "text": [
      "ACCURACY\n",
      "non sampling   :  0.22018348623853212\n",
      "over sampling  :  0.20642201834862386\n",
      "under sampling :  0.1834862385321101\n"
     ]
    },
    {
     "name": "stderr",
     "output_type": "stream",
     "text": [
      "/home/baltschun/anaconda3/lib/python3.7/site-packages/dateutil/parser/_parser.py:1218: UnknownTimezoneWarning: tzname C identified but not understood.  Pass `tzinfos` argument in order to correctly return a timezone-aware datetime.  In a future version, this will raise an exception.\n",
      "  category=UnknownTimezoneWarning)\n"
     ]
    },
    {
     "name": "stdout",
     "output_type": "stream",
     "text": [
      "ACCURACY\n",
      "non sampling   :  0.22018348623853212\n",
      "over sampling  :  0.22018348623853212\n",
      "under sampling :  0.20642201834862386\n"
     ]
    },
    {
     "name": "stderr",
     "output_type": "stream",
     "text": [
      "/home/baltschun/anaconda3/lib/python3.7/site-packages/dateutil/parser/_parser.py:1218: UnknownTimezoneWarning: tzname C identified but not understood.  Pass `tzinfos` argument in order to correctly return a timezone-aware datetime.  In a future version, this will raise an exception.\n",
      "  category=UnknownTimezoneWarning)\n"
     ]
    },
    {
     "name": "stdout",
     "output_type": "stream",
     "text": [
      "ACCURACY\n",
      "non sampling   :  0.22018348623853212\n",
      "over sampling  :  0.20642201834862386\n",
      "under sampling :  0.14678899082568808\n"
     ]
    },
    {
     "name": "stderr",
     "output_type": "stream",
     "text": [
      "/home/baltschun/anaconda3/lib/python3.7/site-packages/dateutil/parser/_parser.py:1218: UnknownTimezoneWarning: tzname C identified but not understood.  Pass `tzinfos` argument in order to correctly return a timezone-aware datetime.  In a future version, this will raise an exception.\n",
      "  category=UnknownTimezoneWarning)\n"
     ]
    },
    {
     "name": "stdout",
     "output_type": "stream",
     "text": [
      "ACCURACY\n",
      "non sampling   :  0.22018348623853212\n",
      "over sampling  :  0.20642201834862386\n",
      "under sampling :  0.21100917431192662\n"
     ]
    },
    {
     "name": "stderr",
     "output_type": "stream",
     "text": [
      "/home/baltschun/anaconda3/lib/python3.7/site-packages/dateutil/parser/_parser.py:1218: UnknownTimezoneWarning: tzname C identified but not understood.  Pass `tzinfos` argument in order to correctly return a timezone-aware datetime.  In a future version, this will raise an exception.\n",
      "  category=UnknownTimezoneWarning)\n"
     ]
    },
    {
     "name": "stdout",
     "output_type": "stream",
     "text": [
      "ACCURACY\n",
      "non sampling   :  0.22018348623853212\n",
      "over sampling  :  0.20642201834862386\n",
      "under sampling :  0.14678899082568808\n"
     ]
    },
    {
     "name": "stderr",
     "output_type": "stream",
     "text": [
      "/home/baltschun/anaconda3/lib/python3.7/site-packages/dateutil/parser/_parser.py:1218: UnknownTimezoneWarning: tzname C identified but not understood.  Pass `tzinfos` argument in order to correctly return a timezone-aware datetime.  In a future version, this will raise an exception.\n",
      "  category=UnknownTimezoneWarning)\n"
     ]
    },
    {
     "name": "stdout",
     "output_type": "stream",
     "text": [
      "ACCURACY\n",
      "non sampling   :  0.22018348623853212\n",
      "over sampling  :  0.20642201834862386\n",
      "under sampling :  0.21100917431192662\n",
      "ACCURACY\n",
      "non sampling   :  0.22018348623853212\n",
      "over sampling  :  0.20642201834862386\n",
      "under sampling :  0.1834862385321101\n"
     ]
    },
    {
     "name": "stderr",
     "output_type": "stream",
     "text": [
      "/home/baltschun/anaconda3/lib/python3.7/site-packages/dateutil/parser/_parser.py:1218: UnknownTimezoneWarning: tzname C identified but not understood.  Pass `tzinfos` argument in order to correctly return a timezone-aware datetime.  In a future version, this will raise an exception.\n",
      "  category=UnknownTimezoneWarning)\n",
      "/home/baltschun/anaconda3/lib/python3.7/site-packages/dateutil/parser/_parser.py:1218: UnknownTimezoneWarning: tzname C identified but not understood.  Pass `tzinfos` argument in order to correctly return a timezone-aware datetime.  In a future version, this will raise an exception.\n",
      "  category=UnknownTimezoneWarning)\n"
     ]
    },
    {
     "name": "stdout",
     "output_type": "stream",
     "text": [
      "ACCURACY\n",
      "non sampling   :  0.22018348623853212\n",
      "over sampling  :  0.20642201834862386\n",
      "under sampling :  0.21559633027522937\n",
      "ACCURACY\n",
      "non sampling   :  0.22018348623853212\n",
      "over sampling  :  0.20642201834862386\n",
      "under sampling :  0.20642201834862386\n",
      "############################################\n",
      "############################################\n",
      "ACCURACY 10 times\n",
      "non sampling   :  0.22018348623853212\n",
      "over sampling  :  0.20779816513761468\n",
      "under sampling :  0.18256880733944952\n"
     ]
    },
    {
     "name": "stderr",
     "output_type": "stream",
     "text": [
      "/home/baltschun/anaconda3/lib/python3.7/site-packages/dateutil/parser/_parser.py:1218: UnknownTimezoneWarning: tzname C identified but not understood.  Pass `tzinfos` argument in order to correctly return a timezone-aware datetime.  In a future version, this will raise an exception.\n",
      "  category=UnknownTimezoneWarning)\n"
     ]
    }
   ],
   "source": [
    "n_times = 10\n",
    "\n",
    "avg_acc_non , avg_acc_over , avg_acc_under = [], [], []\n",
    "for i in range(n_times):\n",
    "    acc_non, acc_over, acc_under = testing_fe_1()\n",
    "    avg_acc_non.append(acc_non)\n",
    "    avg_acc_over.append(acc_over)\n",
    "    avg_acc_under.append(acc_under)\n",
    "    \n",
    "print(\"############################################\")\n",
    "print(\"############################################\")\n",
    "print(\"ACCURACY {} times\".format(n_times))\n",
    "print(\"non sampling   : \",np.mean(avg_acc_non))\n",
    "print(\"over sampling  : \",np.mean(avg_acc_over))\n",
    "print(\"under sampling : \",np.mean(avg_acc_under))\n",
    "    "
   ]
  },
  {
   "cell_type": "markdown",
   "metadata": {},
   "source": [
    "# NLP with Bag of words"
   ]
  },
  {
   "cell_type": "code",
   "execution_count": 30,
   "metadata": {},
   "outputs": [],
   "source": [
    "factory = StopWordRemoverFactory()\n",
    "a = list(factory.get_stop_words())\n",
    "if \"di\" in a: a.remove(\"di\")\n",
    "if \"adalah\" in a: a.remove(\"adalah\")    \n",
    "dictionary = ArrayDictionary(a)\n",
    "stopwordId = StopWordRemover(dictionary)\n",
    "\n",
    "sf= StemmerFactory()\n",
    "stemmerId = sf.create_stemmer()"
   ]
  },
  {
   "cell_type": "code",
   "execution_count": 31,
   "metadata": {
    "scrolled": true
   },
   "outputs": [
    {
     "data": {
      "text/plain": [
       "['yang',\n",
       " 'untuk',\n",
       " 'pada',\n",
       " 'ke',\n",
       " 'para',\n",
       " 'namun',\n",
       " 'menurut',\n",
       " 'antara',\n",
       " 'dia',\n",
       " 'dua',\n",
       " 'ia',\n",
       " 'seperti',\n",
       " 'jika',\n",
       " 'jika',\n",
       " 'sehingga',\n",
       " 'kembali',\n",
       " 'dan',\n",
       " 'tidak',\n",
       " 'ini',\n",
       " 'karena',\n",
       " 'kepada',\n",
       " 'oleh',\n",
       " 'saat',\n",
       " 'harus',\n",
       " 'sementara',\n",
       " 'setelah',\n",
       " 'belum',\n",
       " 'kami',\n",
       " 'sekitar',\n",
       " 'bagi',\n",
       " 'serta',\n",
       " 'dari',\n",
       " 'telah',\n",
       " 'sebagai',\n",
       " 'masih',\n",
       " 'hal',\n",
       " 'ketika',\n",
       " 'itu',\n",
       " 'dalam',\n",
       " 'bisa',\n",
       " 'bahwa',\n",
       " 'atau',\n",
       " 'hanya',\n",
       " 'kita',\n",
       " 'dengan',\n",
       " 'akan',\n",
       " 'juga',\n",
       " 'ada',\n",
       " 'mereka',\n",
       " 'sudah',\n",
       " 'saya',\n",
       " 'terhadap',\n",
       " 'secara',\n",
       " 'agar',\n",
       " 'lain',\n",
       " 'anda',\n",
       " 'begitu',\n",
       " 'mengapa',\n",
       " 'kenapa',\n",
       " 'yaitu',\n",
       " 'yakni',\n",
       " 'daripada',\n",
       " 'itulah',\n",
       " 'lagi',\n",
       " 'maka',\n",
       " 'tentang',\n",
       " 'demi',\n",
       " 'dimana',\n",
       " 'kemana',\n",
       " 'pula',\n",
       " 'sambil',\n",
       " 'sebelum',\n",
       " 'sesudah',\n",
       " 'supaya',\n",
       " 'guna',\n",
       " 'kah',\n",
       " 'pun',\n",
       " 'sampai',\n",
       " 'sedangkan',\n",
       " 'selagi',\n",
       " 'sementara',\n",
       " 'tetapi',\n",
       " 'apakah',\n",
       " 'kecuali',\n",
       " 'sebab',\n",
       " 'selain',\n",
       " 'seolah',\n",
       " 'seraya',\n",
       " 'seterusnya',\n",
       " 'tanpa',\n",
       " 'agak',\n",
       " 'boleh',\n",
       " 'dapat',\n",
       " 'dsb',\n",
       " 'dst',\n",
       " 'dll',\n",
       " 'dahulu',\n",
       " 'dulunya',\n",
       " 'anu',\n",
       " 'demikian',\n",
       " 'tapi',\n",
       " 'ingin',\n",
       " 'juga',\n",
       " 'nggak',\n",
       " 'mari',\n",
       " 'nanti',\n",
       " 'melainkan',\n",
       " 'oh',\n",
       " 'ok',\n",
       " 'seharusnya',\n",
       " 'sebetulnya',\n",
       " 'setiap',\n",
       " 'setidaknya',\n",
       " 'sesuatu',\n",
       " 'pasti',\n",
       " 'saja',\n",
       " 'toh',\n",
       " 'ya',\n",
       " 'walau',\n",
       " 'tolong',\n",
       " 'tentu',\n",
       " 'amat',\n",
       " 'apalagi',\n",
       " 'bagaimanapun']"
      ]
     },
     "execution_count": 31,
     "metadata": {},
     "output_type": "execute_result"
    }
   ],
   "source": [
    "dictionary.words"
   ]
  },
  {
   "cell_type": "code",
   "execution_count": 32,
   "metadata": {},
   "outputs": [],
   "source": [
    "def cleaning(doc):\n",
    "    doc = re.sub('[^a-zA-Z]', ' ' ,doc)\n",
    "    doc = \" \".join(doc.split())\n",
    "    doc = doc.lower()\n",
    "    \n",
    "    doc = stopwordId.remove(doc)    \n",
    "    doc = stemmerId.stem(doc)\n",
    "    \n",
    "    return doc"
   ]
  },
  {
   "cell_type": "markdown",
   "metadata": {},
   "source": [
    "# remove punctuation and stopwords"
   ]
  },
  {
   "cell_type": "code",
   "execution_count": 33,
   "metadata": {},
   "outputs": [],
   "source": [
    "clean_train , clean_test = load_data()"
   ]
  },
  {
   "cell_type": "code",
   "execution_count": 34,
   "metadata": {
    "scrolled": true
   },
   "outputs": [],
   "source": [
    "clean_train.text = [cleaning(i) for i in clean_train.text]\n",
    "clean_test.text = [cleaning(i) for i in clean_test.text]"
   ]
  },
  {
   "cell_type": "code",
   "execution_count": 35,
   "metadata": {},
   "outputs": [],
   "source": [
    "clean_train_oversampling = oversampling(clean_train)\n",
    "clean_train_downsampling = downsampling(clean_train)"
   ]
  },
  {
   "cell_type": "markdown",
   "metadata": {},
   "source": [
    "# plot again"
   ]
  },
  {
   "cell_type": "code",
   "execution_count": 36,
   "metadata": {},
   "outputs": [
    {
     "data": {
      "text/plain": [
       "<matplotlib.axes._subplots.AxesSubplot at 0x7fdd5a5b5910>"
      ]
     },
     "execution_count": 36,
     "metadata": {},
     "output_type": "execute_result"
    },
    {
     "data": {
      "image/png": "[encoded data removed]",
      "text/plain": [
       "<Figure size 432x288 with 1 Axes>"
      ]
     },
     "metadata": {
      "needs_background": "light"
     },
     "output_type": "display_data"
    }
   ],
   "source": [
    "clean_train['label'].value_counts().plot(kind='bar')"
   ]
  },
  {
   "cell_type": "code",
   "execution_count": 37,
   "metadata": {},
   "outputs": [
    {
     "data": {
      "text/plain": [
       "<matplotlib.axes._subplots.AxesSubplot at 0x7fdd5a43d190>"
      ]
     },
     "execution_count": 37,
     "metadata": {},
     "output_type": "execute_result"
    },
    {
     "data": {
      "image/png": "[encoded data removed]",
      "text/plain": [
       "<Figure size 432x288 with 1 Axes>"
      ]
     },
     "metadata": {
      "needs_background": "light"
     },
     "output_type": "display_data"
    }
   ],
   "source": [
    "clean_train_oversampling['label'].value_counts().plot(kind='bar')"
   ]
  },
  {
   "cell_type": "code",
   "execution_count": 38,
   "metadata": {},
   "outputs": [
    {
     "data": {
      "text/plain": [
       "<matplotlib.axes._subplots.AxesSubplot at 0x7fdd5c93c7d0>"
      ]
     },
     "execution_count": 38,
     "metadata": {},
     "output_type": "execute_result"
    },
    {
     "data": {
      "image/png": "[encoded data removed]",
      "text/plain": [
       "<Figure size 432x288 with 1 Axes>"
      ]
     },
     "metadata": {
      "needs_background": "light"
     },
     "output_type": "display_data"
    }
   ],
   "source": [
    "clean_train_downsampling['label'].value_counts().plot(kind='bar')"
   ]
  },
  {
   "cell_type": "markdown",
   "metadata": {},
   "source": [
    "# testing perform of Bag of word"
   ]
  },
  {
   "cell_type": "code",
   "execution_count": 151,
   "metadata": {
    "scrolled": true
   },
   "outputs": [],
   "source": [
    "def test_model_bow(train,test):\n",
    "    vectorizer = CountVectorizer()\n",
    "    \n",
    "    print(\"total data train : \",len(train))\n",
    "\n",
    "    X_train, y_train = vectorizer.fit_transform(train[\"text\"]).toarray() , train['label']\n",
    "    X_test, y_test = vectorizer.transform(test[\"text\"]).toarray() , test['label']\n",
    "\n",
    "    clf = GaussianNB() \n",
    "    clf.fit(X_train,y_train)\n",
    "    y_pred = clf.predict(X_test)\n",
    "    #print(confusion_matrix(y_test, y_pred))\n",
    "    return accuracy_score(y_test, y_pred)"
   ]
  },
  {
   "cell_type": "code",
   "execution_count": 152,
   "metadata": {
    "scrolled": true
   },
   "outputs": [],
   "source": [
    "def testing_fe_2(clean_train,clean_test):\n",
    "    clean_train_nonsampling = clean_train\n",
    "    clean_train_oversampling = oversampling(clean_train)\n",
    "    clean_train_downsampling = downsampling(clean_train)\n",
    "    \n",
    "    acc_non = test_model_bow(clean_train_nonsampling,clean_test)\n",
    "    acc_over = test_model_bow(clean_train_oversampling,clean_test)\n",
    "    acc_under = test_model_bow(clean_train_downsampling,clean_test)\n",
    "\n",
    "    \n",
    "    print(\"ACCURACY\")\n",
    "    print(\"non sampling   : \",acc_non)\n",
    "    print(\"over sampling  : \",acc_over)\n",
    "    print(\"under sampling : \",acc_under)\n",
    "    print(\"\")\n",
    "    return acc_non, acc_over, acc_under"
   ]
  },
  {
   "cell_type": "code",
   "execution_count": 153,
   "metadata": {},
   "outputs": [
    {
     "name": "stdout",
     "output_type": "stream",
     "text": [
      "### 1 epoch ###\n",
      "total data train :  873\n",
      "total data train :  2376\n",
      "total data train :  96\n",
      "ACCURACY\n",
      "non sampling   :  0.7155963302752294\n",
      "over sampling  :  0.7155963302752294\n",
      "under sampling :  0.43119266055045874\n",
      "\n"
     ]
    },
    {
     "data": {
      "text/plain": [
       "(0.7155963302752294, 0.7155963302752294, 0.43119266055045874)"
      ]
     },
     "execution_count": 153,
     "metadata": {},
     "output_type": "execute_result"
    }
   ],
   "source": [
    "print(\"### 1 epoch ###\")\n",
    "testing_fe_2(clean_train,clean_test)"
   ]
  },
  {
   "cell_type": "code",
   "execution_count": 55,
   "metadata": {
    "scrolled": true
   },
   "outputs": [
    {
     "name": "stdout",
     "output_type": "stream",
     "text": [
      "total data train :  873\n",
      "total data train :  2376\n",
      "total data train :  2376\n",
      "ACCURACY\n",
      "non sampling   :  0.7155963302752294\n",
      "over sampling  :  0.7155963302752294\n",
      "under sampling :  0.7155963302752294\n",
      "\n",
      "total data train :  873\n",
      "total data train :  2376\n",
      "total data train :  2376\n",
      "ACCURACY\n",
      "non sampling   :  0.7155963302752294\n",
      "over sampling  :  0.7155963302752294\n",
      "under sampling :  0.7155963302752294\n",
      "\n",
      "total data train :  873\n",
      "total data train :  2376\n",
      "total data train :  2376\n",
      "ACCURACY\n",
      "non sampling   :  0.7155963302752294\n",
      "over sampling  :  0.7155963302752294\n",
      "under sampling :  0.7155963302752294\n",
      "\n",
      "total data train :  873\n",
      "total data train :  2376\n",
      "total data train :  2376\n",
      "ACCURACY\n",
      "non sampling   :  0.7155963302752294\n",
      "over sampling  :  0.7155963302752294\n",
      "under sampling :  0.7155963302752294\n",
      "\n",
      "total data train :  873\n",
      "total data train :  2376\n",
      "total data train :  2376\n",
      "ACCURACY\n",
      "non sampling   :  0.7155963302752294\n",
      "over sampling  :  0.7155963302752294\n",
      "under sampling :  0.7155963302752294\n",
      "\n",
      "total data train :  873\n",
      "total data train :  2376\n",
      "total data train :  2376\n",
      "ACCURACY\n",
      "non sampling   :  0.7155963302752294\n",
      "over sampling  :  0.7155963302752294\n",
      "under sampling :  0.7155963302752294\n",
      "\n",
      "total data train :  873\n",
      "total data train :  2376\n",
      "total data train :  2376\n",
      "ACCURACY\n",
      "non sampling   :  0.7155963302752294\n",
      "over sampling  :  0.7155963302752294\n",
      "under sampling :  0.7155963302752294\n",
      "\n",
      "total data train :  873\n",
      "total data train :  2376\n",
      "total data train :  2376\n",
      "ACCURACY\n",
      "non sampling   :  0.7155963302752294\n",
      "over sampling  :  0.7155963302752294\n",
      "under sampling :  0.7155963302752294\n",
      "\n",
      "total data train :  873\n",
      "total data train :  2376\n",
      "total data train :  2376\n",
      "ACCURACY\n",
      "non sampling   :  0.7155963302752294\n",
      "over sampling  :  0.7155963302752294\n",
      "under sampling :  0.7155963302752294\n",
      "\n",
      "total data train :  873\n",
      "total data train :  2376\n",
      "total data train :  2376\n",
      "ACCURACY\n",
      "non sampling   :  0.7155963302752294\n",
      "over sampling  :  0.7155963302752294\n",
      "under sampling :  0.7155963302752294\n",
      "\n",
      "\n",
      "############################################\n",
      "############################################\n",
      "ACCURACY 10 times\n",
      "non sampling   :  0.7155963302752293\n",
      "over sampling  :  0.7155963302752293\n",
      "under sampling :  0.7155963302752293\n"
     ]
    }
   ],
   "source": [
    "n_times = 10\n",
    "\n",
    "avg_acc_non , avg_acc_over , avg_acc_under = [], [], []\n",
    "for i in range(n_times):\n",
    "    acc_non, acc_over, acc_under = testing_fe_2(clean_train,clean_test)\n",
    "    avg_acc_non.append(acc_non)\n",
    "    avg_acc_over.append(acc_over)\n",
    "    avg_acc_under.append(acc_under)\n",
    "    \n",
    "print(\"\")\n",
    "print(\"############################################\")\n",
    "print(\"############################################\")\n",
    "print(\"ACCURACY {} times\".format(n_times))\n",
    "print(\"non sampling   : \",np.mean(avg_acc_non))\n",
    "print(\"over sampling  : \",np.mean(avg_acc_over))\n",
    "print(\"under sampling : \",np.mean(avg_acc_under))\n",
    "    "
   ]
  },
  {
   "cell_type": "code",
   "execution_count": null,
   "metadata": {},
   "outputs": [],
   "source": []
  },
  {
   "cell_type": "code",
   "execution_count": null,
   "metadata": {},
   "outputs": [],
   "source": []
  },
  {
   "cell_type": "code",
   "execution_count": null,
   "metadata": {},
   "outputs": [],
   "source": []
  },
  {
   "cell_type": "code",
   "execution_count": 156,
   "metadata": {},
   "outputs": [],
   "source": [
    "def test_model_bow_plus_manual_Fe(train,test,verbose):\n",
    "    print(\"total data train : \",len(train))\n",
    "    \n",
    "    vectorizer = CountVectorizer()\n",
    "    X_train, y_train = vectorizer.fit_transform(train[\"text\"]).toarray() , train['label']\n",
    "    X_test, y_test = vectorizer.transform(test[\"text\"]).toarray() , test['label']\n",
    "    \n",
    "    X_train_fe = [text_to_vector(i) for i in train[\"text\"]]\n",
    "    X_test_fe = [text_to_vector(i) for i in test[\"text\"]]\n",
    "\n",
    "    if verbose:\n",
    "        print(\"X shape          : \",X_train.shape, \" --------- \", X_test.shape)\n",
    "    \n",
    "    X_train = pd.concat([pd.DataFrame(X_train), pd.DataFrame(X_train_fe)], axis=1)\n",
    "    X_test = pd.concat([pd.DataFrame(X_test), pd.DataFrame(X_test_fe)], axis=1)\n",
    "    \n",
    "    if verbose:\n",
    "        print(\"X shape          : \",X_train.shape, \" --------- \", X_test.shape)\n",
    "    \n",
    "    clf = GaussianNB() \n",
    "    clf.fit(X_train,y_train)\n",
    "    y_pred = clf.predict(X_test)\n",
    "    return accuracy_score(y_test, y_pred)"
   ]
  },
  {
   "cell_type": "code",
   "execution_count": 157,
   "metadata": {},
   "outputs": [],
   "source": [
    "def testing_fe_3(clean_train,clean_test,verbose=False):\n",
    "    clean_train_oversampling = oversampling(clean_train)\n",
    "    clean_train_downsampling = downsampling(clean_train)\n",
    "\n",
    "    acc_non = test_model_bow_plus_manual_Fe(clean_train,clean_test,verbose)\n",
    "    acc_over = test_model_bow_plus_manual_Fe(clean_train_oversampling,clean_test,verbose)\n",
    "    acc_under = test_model_bow_plus_manual_Fe(clean_train_downsampling,clean_test,verbose)\n",
    "\n",
    "    \n",
    "    print(\"ACCURACY\")\n",
    "    print(\"non sampling     : \",acc_non)\n",
    "    print(\"over sampling    : \",acc_over)\n",
    "    print(\"under sampling   : \",acc_under)\n",
    "    print(\"\")\n",
    "    return acc_non, acc_over, acc_under"
   ]
  },
  {
   "cell_type": "code",
   "execution_count": 158,
   "metadata": {},
   "outputs": [
    {
     "name": "stdout",
     "output_type": "stream",
     "text": [
      "### 1 epoch ###\n",
      "total data train :  873\n",
      "X shape          :  (873, 2350)  ---------  (218, 2350)\n",
      "X shape          :  (873, 2357)  ---------  (218, 2357)\n",
      "total data train :  2376\n",
      "X shape          :  (2376, 2350)  ---------  (218, 2350)\n",
      "X shape          :  (2376, 2357)  ---------  (218, 2357)\n",
      "total data train :  96\n",
      "X shape          :  (96, 532)  ---------  (218, 532)\n",
      "X shape          :  (96, 539)  ---------  (218, 539)\n",
      "ACCURACY\n",
      "non sampling     :  0.7339449541284404\n",
      "over sampling    :  0.7339449541284404\n",
      "under sampling   :  0.481651376146789\n",
      "\n"
     ]
    },
    {
     "data": {
      "text/plain": [
       "(0.7339449541284404, 0.7339449541284404, 0.481651376146789)"
      ]
     },
     "execution_count": 158,
     "metadata": {},
     "output_type": "execute_result"
    }
   ],
   "source": [
    "print(\"### 1 epoch ###\")\n",
    "testing_fe_3(clean_train,clean_test,True)"
   ]
  },
  {
   "cell_type": "code",
   "execution_count": 159,
   "metadata": {
    "scrolled": true
   },
   "outputs": [
    {
     "name": "stdout",
     "output_type": "stream",
     "text": [
      "total data train :  873\n",
      "total data train :  2376\n",
      "total data train :  96\n",
      "ACCURACY\n",
      "non sampling     :  0.7339449541284404\n",
      "over sampling    :  0.7339449541284404\n",
      "under sampling   :  0.42660550458715596\n",
      "\n",
      "total data train :  873\n",
      "total data train :  2376\n",
      "total data train :  96\n",
      "ACCURACY\n",
      "non sampling     :  0.7339449541284404\n",
      "over sampling    :  0.7339449541284404\n",
      "under sampling   :  0.44954128440366975\n",
      "\n",
      "total data train :  873\n",
      "total data train :  2376\n",
      "total data train :  96\n",
      "ACCURACY\n",
      "non sampling     :  0.7339449541284404\n",
      "over sampling    :  0.7339449541284404\n",
      "under sampling   :  0.44036697247706424\n",
      "\n",
      "total data train :  873\n",
      "total data train :  2376\n",
      "total data train :  96\n",
      "ACCURACY\n",
      "non sampling     :  0.7339449541284404\n",
      "over sampling    :  0.7339449541284404\n",
      "under sampling   :  0.38990825688073394\n",
      "\n",
      "total data train :  873\n",
      "total data train :  2376\n",
      "total data train :  96\n",
      "ACCURACY\n",
      "non sampling     :  0.7339449541284404\n",
      "over sampling    :  0.7339449541284404\n",
      "under sampling   :  0.44495412844036697\n",
      "\n",
      "total data train :  873\n",
      "total data train :  2376\n",
      "total data train :  96\n",
      "ACCURACY\n",
      "non sampling     :  0.7339449541284404\n",
      "over sampling    :  0.7339449541284404\n",
      "under sampling   :  0.3944954128440367\n",
      "\n",
      "total data train :  873\n",
      "total data train :  2376\n",
      "total data train :  96\n",
      "ACCURACY\n",
      "non sampling     :  0.7339449541284404\n",
      "over sampling    :  0.7339449541284404\n",
      "under sampling   :  0.42660550458715596\n",
      "\n",
      "total data train :  873\n",
      "total data train :  2376\n",
      "total data train :  96\n",
      "ACCURACY\n",
      "non sampling     :  0.7339449541284404\n",
      "over sampling    :  0.7339449541284404\n",
      "under sampling   :  0.38073394495412843\n",
      "\n",
      "total data train :  873\n",
      "total data train :  2376\n",
      "total data train :  96\n",
      "ACCURACY\n",
      "non sampling     :  0.7339449541284404\n",
      "over sampling    :  0.7339449541284404\n",
      "under sampling   :  0.3761467889908257\n",
      "\n",
      "total data train :  873\n",
      "total data train :  2376\n",
      "total data train :  96\n",
      "ACCURACY\n",
      "non sampling     :  0.7339449541284404\n",
      "over sampling    :  0.7339449541284404\n",
      "under sampling   :  0.3440366972477064\n",
      "\n",
      "\n",
      "############################################\n",
      "############################################\n",
      "ACCURACY 10 times\n",
      "non sampling   :  0.7339449541284404\n",
      "over sampling  :  0.7339449541284404\n",
      "under sampling :  0.4073394495412844\n"
     ]
    }
   ],
   "source": [
    "n_times = 10\n",
    "\n",
    "avg_acc_non , avg_acc_over , avg_acc_under = [], [], []\n",
    "for i in range(n_times):\n",
    "    acc_non, acc_over, acc_under = testing_fe_3(clean_train,clean_test)\n",
    "    avg_acc_non.append(acc_non)\n",
    "    avg_acc_over.append(acc_over)\n",
    "    avg_acc_under.append(acc_under)\n",
    "    \n",
    "print(\"\")\n",
    "print(\"############################################\")\n",
    "print(\"############################################\")\n",
    "print(\"ACCURACY {} times\".format(n_times))\n",
    "print(\"non sampling   : \",np.mean(avg_acc_non))\n",
    "print(\"over sampling  : \",np.mean(avg_acc_over))\n",
    "print(\"under sampling : \",np.mean(avg_acc_under))\n",
    "    "
   ]
  },
  {
   "cell_type": "code",
   "execution_count": null,
   "metadata": {},
   "outputs": [],
   "source": []
  },
  {
   "cell_type": "code",
   "execution_count": null,
   "metadata": {},
   "outputs": [],
   "source": []
  }
 ],
 "metadata": {
  "kernelspec": {
   "display_name": "Python 3",
   "language": "python",
   "name": "python3"
  },
  "language_info": {
   "codemirror_mode": {
    "name": "ipython",
    "version": 3
   },
   "file_extension": ".py",
   "mimetype": "text/x-python",
   "name": "python",
   "nbconvert_exporter": "python",
   "pygments_lexer": "ipython3",
   "version": "3.7.4"
  }
 },
 "nbformat": 4,
 "nbformat_minor": 2
}
